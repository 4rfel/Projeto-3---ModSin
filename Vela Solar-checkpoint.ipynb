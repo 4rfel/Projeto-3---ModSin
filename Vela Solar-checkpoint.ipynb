{
 "cells": [
  {
   "cell_type": "code",
   "execution_count": 47,
   "metadata": {},
   "outputs": [],
   "source": [
    "def oi_amanda(ci, t):\n",
    "    x = ci[0]\n",
    "    vx = ci[1]\n",
    "      \n",
    "    forca = 4 * I / c**2\n",
    "    Rx = forca * area\n",
    "    \n",
    "    dxdt = vx * P/L\n",
    "    dvxdt = Rx / m  * (P**2/L)\n",
    "    \n",
    "    global aceleracao\n",
    "    aceleracao.append(dvxdt)\n",
    "\n",
    "    return dxdt, dvxdt\n"
   ]
  },
  {
   "cell_type": "code",
   "execution_count": 50,
   "metadata": {
    "scrolled": false
   },
   "outputs": [
    {
     "ename": "MemoryError",
     "evalue": "",
     "output_type": "error",
     "traceback": [
      "\u001b[1;31m---------------------------------------------------------------------------\u001b[0m",
      "\u001b[1;31mMemoryError\u001b[0m                               Traceback (most recent call last)",
      "\u001b[1;32m<ipython-input-50-55dba23e5f6d>\u001b[0m in \u001b[0;36m<module>\u001b[1;34m()\u001b[0m\n\u001b[0;32m     21\u001b[0m \u001b[0ma\u001b[0m \u001b[1;33m=\u001b[0m \u001b[1;36m3.15\u001b[0m\u001b[1;33m*\u001b[0m\u001b[1;36m10\u001b[0m\u001b[1;33m**\u001b[0m\u001b[1;36m7\u001b[0m\u001b[1;33m\u001b[0m\u001b[0m\n\u001b[0;32m     22\u001b[0m \u001b[1;33m\u001b[0m\u001b[0m\n\u001b[1;32m---> 23\u001b[1;33m \u001b[0mlistaTempo\u001b[0m \u001b[1;33m=\u001b[0m \u001b[0mnp\u001b[0m\u001b[1;33m.\u001b[0m\u001b[0marange\u001b[0m\u001b[1;33m(\u001b[0m\u001b[1;36m0\u001b[0m\u001b[1;33m,\u001b[0m\u001b[0ma\u001b[0m\u001b[1;33m,\u001b[0m\u001b[1;36m0.01\u001b[0m\u001b[1;33m)\u001b[0m\u001b[1;33m\u001b[0m\u001b[0m\n\u001b[0m\u001b[0;32m     24\u001b[0m \u001b[1;33m\u001b[0m\u001b[0m\n\u001b[0;32m     25\u001b[0m \u001b[0mresp\u001b[0m \u001b[1;33m=\u001b[0m \u001b[0modeint\u001b[0m\u001b[1;33m(\u001b[0m\u001b[0moi_amanda\u001b[0m\u001b[1;33m,\u001b[0m \u001b[0mci\u001b[0m\u001b[1;33m,\u001b[0m \u001b[0mlistaTempo\u001b[0m\u001b[1;33m)\u001b[0m\u001b[1;33m\u001b[0m\u001b[0m\n",
      "\u001b[1;31mMemoryError\u001b[0m: "
     ]
    }
   ],
   "source": [
    "from scipy.integrate import odeint\n",
    "import numpy as np\n",
    "import matplotlib.pyplot as plt\n",
    "\n",
    "aceleracao = []\n",
    "\n",
    "L = 1.5 * 10*11\n",
    "P = 3.15 * 10**7\n",
    "L = 1\n",
    "P = 1\n",
    "\n",
    "x0 = 1\n",
    "vx0 = 0 * (L/P)\n",
    "ci = [x0,vx0]\n",
    "c = 3 * 10**8 * (L/P)\n",
    "lado = 200 \n",
    "area = lado**2 * L**2\n",
    "I = 50 * 10**6 / area\n",
    "m = 100 #kg\n",
    "\n",
    "a = 3.15*10**7\n",
    "\n",
    "listaTempo = np.arange(0,a,0.01)\n",
    "    \n",
    "resp = odeint(oi_amanda, ci, listaTempo)\n",
    "\n",
    "plt.figure(figsize=(7,7))\n",
    "plt.plot(listaTempo, resp[:,0])\n",
    "plt.xlabel('Tempo(anos)')\n",
    "plt.ylabel('Posicao')\n",
    "plt.title('posicao')\n",
    "plt.grid(True)\n",
    "plt.show()\n",
    "\n",
    "plt.figure(figsize=(7,7))\n",
    "plt.plot(listaTempo, resp[:,1])\n",
    "plt.xlabel('Tempo(anos)')\n",
    "plt.ylabel('Velocidade')\n",
    "plt.title('vel')\n",
    "plt.grid(True)\n",
    "plt.show()\n",
    "\n",
    "plt.figure(figsize=(7,7))\n",
    "plt.plot(range(len(aceleracao)), aceleracao, 'bo')\n",
    "plt.xlabel('Tempo (anos)')\n",
    "plt.ylabel('Aceleração')\n",
    "plt.title('a')\n",
    "plt.grid(True)\n",
    "plt.show()"
   ]
  },
  {
   "cell_type": "code",
   "execution_count": 36,
   "metadata": {},
   "outputs": [
    {
     "data": {
      "image/png": "[encoded data removed]",
      "text/plain": [
       "<matplotlib.figure.Figure at 0x1bcb6f58240>"
      ]
     },
     "metadata": {},
     "output_type": "display_data"
    }
   ],
   "source": [
    "tempo_val = [1000 , 7512195370.731709 ,7707317302.439026 ,7829268509.756098 ,7975609958.536585 ,8097561165.853661,\n",
    "             8292683097.560976, 8536585512.195124, 8707317202.439026, 8951219617.073172]\n",
    "\n",
    "vel_val = [0.013182926829268249, 0.8854804878048779, 0.904973170731707, 0.9220292682926827, 0.934212195121951,\n",
    "           0.9488317073170729, 0.9634512195121949, 0.9756341463414632, 0.9878170731707314, 0.9926902439024388]\n",
    "\n",
    "\n",
    "plt.figure(figsize=(7,7))\n",
    "plt.plot(tempo_val, vel_val, 'b', label=('Validação'))\n",
    "plt.ylabel('% de C')\n",
    "plt.xlabel('Tempo')\n",
    "plt.legend()\n",
    "plt.grid(True)\n",
    "plt.show()"
   ]
  },
  {
   "cell_type": "code",
   "execution_count": null,
   "metadata": {},
   "outputs": [],
   "source": []
  },
  {
   "cell_type": "code",
   "execution_count": null,
   "metadata": {},
   "outputs": [],
   "source": []
  }
 ],
 "metadata": {
  "kernelspec": {
   "display_name": "Python 3",
   "language": "python",
   "name": "python3"
  },
  "language_info": {
   "codemirror_mode": {
    "name": "ipython",
    "version": 3
   },
   "file_extension": ".py",
   "mimetype": "text/x-python",
   "name": "python",
   "nbconvert_exporter": "python",
   "pygments_lexer": "ipython3",
   "version": "3.6.4"
  }
 },
 "nbformat": 4,
 "nbformat_minor": 2
}
