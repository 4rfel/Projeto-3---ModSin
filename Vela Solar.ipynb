{
 "cells": [
  {
   "cell_type": "code",
   "execution_count": 8,
   "metadata": {},
   "outputs": [
    {
     "ename": "NameError",
     "evalue": "name 'meses' is not defined",
     "output_type": "error",
     "traceback": [
      "\u001b[1;31m---------------------------------------------------------------------------\u001b[0m",
      "\u001b[1;31mNameError\u001b[0m                                 Traceback (most recent call last)",
      "\u001b[1;32m<ipython-input-8-83bfde4889c9>\u001b[0m in \u001b[0;36m<module>\u001b[1;34m()\u001b[0m\n\u001b[0;32m     22\u001b[0m     \u001b[1;32mreturn\u001b[0m \u001b[0mpressure\u001b[0m\u001b[1;33m*\u001b[0m\u001b[1;36m10\u001b[0m\u001b[1;33m**\u001b[0m\u001b[1;33m-\u001b[0m\u001b[1;36m6\u001b[0m\u001b[1;33m\u001b[0m\u001b[0m\n\u001b[0;32m     23\u001b[0m \u001b[1;33m\u001b[0m\u001b[0m\n\u001b[1;32m---> 24\u001b[1;33m \u001b[0mquant_seg\u001b[0m\u001b[1;33m=\u001b[0m\u001b[1;36m2592000\u001b[0m\u001b[1;33m*\u001b[0m\u001b[0mmeses\u001b[0m\u001b[1;33m\u001b[0m\u001b[0m\n\u001b[0m\u001b[0;32m     25\u001b[0m \u001b[0mquant_metros\u001b[0m\u001b[1;33m=\u001b[0m\u001b[1;36m1.496e11\u001b[0m\u001b[1;33m*\u001b[0m\u001b[0mUA\u001b[0m\u001b[1;33m\u001b[0m\u001b[0m\n\u001b[0;32m     26\u001b[0m \u001b[1;33m\u001b[0m\u001b[0m\n",
      "\u001b[1;31mNameError\u001b[0m: name 'meses' is not defined"
     ]
    }
   ],
   "source": [
    "def oi_amanda(ci, t):\n",
    "    x = ci[0]\n",
    "    vx = ci[1]\n",
    "      \n",
    "    variacao_AU=ci[0]-x0\n",
    "    pressure=variacao_AU*(5.17/0.52)\n",
    "    \n",
    "    pressao_solar = pressure*10**-6\n",
    "    Rx = pressao_solar * area\n",
    "    \n",
    "    dxdt = vx\n",
    "    dvxdt = Rx / m #/ (1-vx**2/c**2)\n",
    "    \n",
    "    global aceleracao\n",
    "    aceleracao.append(dvxdt)\n",
    "\n",
    "    return dxdt, dvxdt\n",
    "\n",
    "\n",
    "def solar_pressure(variacao_AU):\n",
    "    pressure=variacao_AU*(5.17/0.52)\n",
    "    return pressure*10**-6\n",
    "\n",
    "quant_seg=2592000*meses\n",
    "quant_metros=1.496e11*UA\n",
    "\n"
   ]
  },
  {
   "cell_type": "code",
   "execution_count": 10,
   "metadata": {
    "scrolled": false
   },
   "outputs": [
    {
     "data": {
      "text/plain": [
       "<matplotlib.figure.Figure at 0x23acfc829e8>"
      ]
     },
     "metadata": {},
     "output_type": "display_data"
    },
    {
     "data": {
      "text/plain": [
       "<matplotlib.figure.Figure at 0x23ad0f6c048>"
      ]
     },
     "metadata": {},
     "output_type": "display_data"
    },
    {
     "data": {
      "text/plain": [
       "<matplotlib.figure.Figure at 0x23ad136e7f0>"
      ]
     },
     "metadata": {},
     "output_type": "display_data"
    }
   ],
   "source": [
    "from scipy.integrate import odeint\n",
    "import numpy as np\n",
    "import matplotlib.pyplot as plt\n",
    "\n",
    "aceleracao = []\n",
    "\n",
    "x0 = 1.02\n",
    "vx0 = 50\n",
    "f = 10**-9\n",
    "potencia_laser = 10 * 10**3\n",
    "solar_pressure = 9.08 * 10**-6\n",
    "ci = [x0,vx0]\n",
    "h =  6.62607004 * 10**-34\n",
    "c = 3 * 10**8\n",
    "l = 200 #lado #unidade?\n",
    "area = l**2\n",
    "densidade = 0.001\n",
    "m = area * densidade #kg\n",
    "\n",
    "listaTempo = np.arange(0,10,0.005)\n",
    "    \n",
    "resp = odeint(oi_amanda, ci, listaTempo)\n",
    "\n",
    "plt.figure(figsize=(7,7))\n",
    "plt.plot(listaTempo, resp[:,0])\n",
    "plt.xlabel('Tempo')\n",
    "plt.ylabel('Posicao')\n",
    "plt.title('posicao')\n",
    "plt.grid(True)\n",
    "plt.show()\n",
    "\n",
    "plt.figure(figsize=(7,7))\n",
    "plt.plot(listaTempo, resp[:,1])\n",
    "plt.xlabel('Tempo')\n",
    "plt.ylabel('Velocidade')\n",
    "plt.title('vel')\n",
    "plt.grid(True)\n",
    "plt.show()\n",
    "\n",
    "plt.figure(figsize=(7,7))\n",
    "plt.plot(range(len(aceleracao)), aceleracao)\n",
    "plt.xlabel('Tempo')\n",
    "plt.ylabel('Aceleração')\n",
    "plt.title('a')\n",
    "plt.grid(True)\n",
    "plt.show()"
   ]
  },
  {
   "cell_type": "code",
   "execution_count": null,
   "metadata": {
    "scrolled": true
   },
   "outputs": [],
   "source": [
    "l=14\n",
    "listaTempo2=np.arange(0,5,0.05)\n",
    "resp = odeint(oi_amanda, ci, listaTempo)\n",
    "\n",
    "plt.figure(figsize=(7,7))\n",
    "plt.plot(listaTempo, resp[:,0])\n",
    "plt.xlabel('Tempo')\n",
    "plt.ylabel('Posicao')\n",
    "plt.title('posicao')\n",
    "plt.grid(True)\n",
    "plt.show()\n",
    "\n",
    "plt.figure(figsize=(7,7))\n",
    "plt.plot(listaTempo, resp[:,1])\n",
    "plt.xlabel('Tempo')\n",
    "plt.ylabel('Velocidade')\n",
    "plt.title('vel')\n",
    "plt.grid(True)\n",
    "plt.show()\n",
    "\n",
    "plt.figure(figsize=(7,7))\n",
    "plt.plot(listaTempo, aceleracao)\n",
    "plt.xlabel('Tempo')\n",
    "plt.ylabel('Aceleração')\n",
    "plt.title('a')\n",
    "plt.grid(True)\n",
    "plt.show()"
   ]
  },
  {
   "cell_type": "code",
   "execution_count": 11,
   "metadata": {},
   "outputs": [
    {
     "data": {
      "image/png": "[encoded data removed]",
      "text/plain": [
       "<matplotlib.figure.Figure at 0x23ad140e208>"
      ]
     },
     "metadata": {},
     "output_type": "display_data"
    }
   ],
   "source": [
    "matriz_validacao=[0.00100, 0.00122, 0.00174, 0.00219, 0.00266,0.00329, 0.00400, 0.00502, 0.00642, 0.00820, 0.0110, 0.0136, 0.0173, 0.0240, \n",
    "0.0288,\n",
    "0.0339, \n",
    "0.0454, \n",
    "0.0639,\n",
    "0.0803, \n",
    "0.110, \n",
    "0.140, \n",
    "0.204,\n",
    "0.256,\n",
    "0.306, \n",
    "0.366, \n",
    "0.416,\n",
    "0.558, \n",
    "0.723,\n",
    "0.837, \n",
    "1.00]                                                                                                                                                                                                                                                                                                                                                                                                                                                                                      \n",
    "\n",
    "vel_y=[1.00e+3,2.00e+3,5.23e+3,8.64e+3,1.54e+4,2.96e+4,5.47e+4,9.04e+4,1.88e+5,3.75e+5,7.81e+5,1.45e+6,2.68e+6,6.25e+6, 1.03e+7,\n",
    "1.83e+7,3.82e+7, 9.61e+7,2.00e+8,4.48e+8,8.63e+8, 2.54e+9, 4.35e+9,5.70e+9,8.39e+9, 9.08e+9,1.11e+10, 1.35e+10,1.35e+10, 1.36e+10]\n",
    "\n",
    "plt.figure(figsize=(7,7))\n",
    "plt.plot(matriz_validacao,vel_y)\n",
    "plt.xlabel('Tempo')\n",
    "plt.ylabel('Velocidade')\n",
    "plt.title('Velocidade (Validação) - Laser - 100kg')\n",
    "plt.grid(True)\n",
    "plt.show()\n",
    "\n",
    "\n"
   ]
  },
  {
   "cell_type": "code",
   "execution_count": null,
   "metadata": {},
   "outputs": [],
   "source": []
  }
 ],
 "metadata": {
  "kernelspec": {
   "display_name": "Python 3",
   "language": "python",
   "name": "python3"
  },
  "language_info": {
   "codemirror_mode": {
    "name": "ipython",
    "version": 3
   },
   "file_extension": ".py",
   "mimetype": "text/x-python",
   "name": "python",
   "nbconvert_exporter": "python",
   "pygments_lexer": "ipython3",
   "version": "3.6.4"
  }
 },
 "nbformat": 4,
 "nbformat_minor": 2
}
